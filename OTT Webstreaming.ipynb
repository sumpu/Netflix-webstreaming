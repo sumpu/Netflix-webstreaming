{
 "cells": [
  {
   "cell_type": "code",
   "execution_count": 7,
   "id": "027ff64b",
   "metadata": {},
   "outputs": [],
   "source": [
    "import numpy as np\n",
    "import pandas as pd\n",
    "import matplotlib.pyplot as plt\n",
    "import seaborn as sns"
   ]
  },
  {
   "cell_type": "markdown",
   "id": "3f1b5b56",
   "metadata": {},
   "source": [
    "# Netflix EDA\n",
    "\n",
    "# Recommendation is given at last of this page"
   ]
  },
  {
   "cell_type": "code",
   "execution_count": 8,
   "id": "e76e20cf",
   "metadata": {},
   "outputs": [
    {
     "data": {
      "text/html": [
       "<div>\n",
       "<style scoped>\n",
       "    .dataframe tbody tr th:only-of-type {\n",
       "        vertical-align: middle;\n",
       "    }\n",
       "\n",
       "    .dataframe tbody tr th {\n",
       "        vertical-align: top;\n",
       "    }\n",
       "\n",
       "    .dataframe thead th {\n",
       "        text-align: right;\n",
       "    }\n",
       "</style>\n",
       "<table border=\"1\" class=\"dataframe\">\n",
       "  <thead>\n",
       "    <tr style=\"text-align: right;\">\n",
       "      <th></th>\n",
       "      <th>show_id</th>\n",
       "      <th>type</th>\n",
       "      <th>title</th>\n",
       "      <th>director</th>\n",
       "      <th>cast</th>\n",
       "      <th>country</th>\n",
       "      <th>date_added</th>\n",
       "      <th>release_year</th>\n",
       "      <th>rating</th>\n",
       "      <th>duration</th>\n",
       "      <th>listed_in</th>\n",
       "      <th>description</th>\n",
       "    </tr>\n",
       "  </thead>\n",
       "  <tbody>\n",
       "    <tr>\n",
       "      <th>0</th>\n",
       "      <td>s1</td>\n",
       "      <td>Movie</td>\n",
       "      <td>Dick Johnson Is Dead</td>\n",
       "      <td>Kirsten Johnson</td>\n",
       "      <td>NaN</td>\n",
       "      <td>United States</td>\n",
       "      <td>September 25, 2021</td>\n",
       "      <td>2020</td>\n",
       "      <td>PG-13</td>\n",
       "      <td>90 min</td>\n",
       "      <td>Documentaries</td>\n",
       "      <td>As her father nears the end of his life, filmm...</td>\n",
       "    </tr>\n",
       "    <tr>\n",
       "      <th>1</th>\n",
       "      <td>s2</td>\n",
       "      <td>TV Show</td>\n",
       "      <td>Blood &amp; Water</td>\n",
       "      <td>NaN</td>\n",
       "      <td>Ama Qamata, Khosi Ngema, Gail Mabalane, Thaban...</td>\n",
       "      <td>South Africa</td>\n",
       "      <td>September 24, 2021</td>\n",
       "      <td>2021</td>\n",
       "      <td>TV-MA</td>\n",
       "      <td>2 Seasons</td>\n",
       "      <td>International TV Shows, TV Dramas, TV Mysteries</td>\n",
       "      <td>After crossing paths at a party, a Cape Town t...</td>\n",
       "    </tr>\n",
       "    <tr>\n",
       "      <th>2</th>\n",
       "      <td>s3</td>\n",
       "      <td>TV Show</td>\n",
       "      <td>Ganglands</td>\n",
       "      <td>Julien Leclercq</td>\n",
       "      <td>Sami Bouajila, Tracy Gotoas, Samuel Jouy, Nabi...</td>\n",
       "      <td>NaN</td>\n",
       "      <td>September 24, 2021</td>\n",
       "      <td>2021</td>\n",
       "      <td>TV-MA</td>\n",
       "      <td>1 Season</td>\n",
       "      <td>Crime TV Shows, International TV Shows, TV Act...</td>\n",
       "      <td>To protect his family from a powerful drug lor...</td>\n",
       "    </tr>\n",
       "    <tr>\n",
       "      <th>3</th>\n",
       "      <td>s4</td>\n",
       "      <td>TV Show</td>\n",
       "      <td>Jailbirds New Orleans</td>\n",
       "      <td>NaN</td>\n",
       "      <td>NaN</td>\n",
       "      <td>NaN</td>\n",
       "      <td>September 24, 2021</td>\n",
       "      <td>2021</td>\n",
       "      <td>TV-MA</td>\n",
       "      <td>1 Season</td>\n",
       "      <td>Docuseries, Reality TV</td>\n",
       "      <td>Feuds, flirtations and toilet talk go down amo...</td>\n",
       "    </tr>\n",
       "    <tr>\n",
       "      <th>4</th>\n",
       "      <td>s5</td>\n",
       "      <td>TV Show</td>\n",
       "      <td>Kota Factory</td>\n",
       "      <td>NaN</td>\n",
       "      <td>Mayur More, Jitendra Kumar, Ranjan Raj, Alam K...</td>\n",
       "      <td>India</td>\n",
       "      <td>September 24, 2021</td>\n",
       "      <td>2021</td>\n",
       "      <td>TV-MA</td>\n",
       "      <td>2 Seasons</td>\n",
       "      <td>International TV Shows, Romantic TV Shows, TV ...</td>\n",
       "      <td>In a city of coaching centers known to train I...</td>\n",
       "    </tr>\n",
       "    <tr>\n",
       "      <th>...</th>\n",
       "      <td>...</td>\n",
       "      <td>...</td>\n",
       "      <td>...</td>\n",
       "      <td>...</td>\n",
       "      <td>...</td>\n",
       "      <td>...</td>\n",
       "      <td>...</td>\n",
       "      <td>...</td>\n",
       "      <td>...</td>\n",
       "      <td>...</td>\n",
       "      <td>...</td>\n",
       "      <td>...</td>\n",
       "    </tr>\n",
       "    <tr>\n",
       "      <th>8802</th>\n",
       "      <td>s8803</td>\n",
       "      <td>Movie</td>\n",
       "      <td>Zodiac</td>\n",
       "      <td>David Fincher</td>\n",
       "      <td>Mark Ruffalo, Jake Gyllenhaal, Robert Downey J...</td>\n",
       "      <td>United States</td>\n",
       "      <td>November 20, 2019</td>\n",
       "      <td>2007</td>\n",
       "      <td>R</td>\n",
       "      <td>158 min</td>\n",
       "      <td>Cult Movies, Dramas, Thrillers</td>\n",
       "      <td>A political cartoonist, a crime reporter and a...</td>\n",
       "    </tr>\n",
       "    <tr>\n",
       "      <th>8803</th>\n",
       "      <td>s8804</td>\n",
       "      <td>TV Show</td>\n",
       "      <td>Zombie Dumb</td>\n",
       "      <td>NaN</td>\n",
       "      <td>NaN</td>\n",
       "      <td>NaN</td>\n",
       "      <td>July 1, 2019</td>\n",
       "      <td>2018</td>\n",
       "      <td>TV-Y7</td>\n",
       "      <td>2 Seasons</td>\n",
       "      <td>Kids' TV, Korean TV Shows, TV Comedies</td>\n",
       "      <td>While living alone in a spooky town, a young g...</td>\n",
       "    </tr>\n",
       "    <tr>\n",
       "      <th>8804</th>\n",
       "      <td>s8805</td>\n",
       "      <td>Movie</td>\n",
       "      <td>Zombieland</td>\n",
       "      <td>Ruben Fleischer</td>\n",
       "      <td>Jesse Eisenberg, Woody Harrelson, Emma Stone, ...</td>\n",
       "      <td>United States</td>\n",
       "      <td>November 1, 2019</td>\n",
       "      <td>2009</td>\n",
       "      <td>R</td>\n",
       "      <td>88 min</td>\n",
       "      <td>Comedies, Horror Movies</td>\n",
       "      <td>Looking to survive in a world taken over by zo...</td>\n",
       "    </tr>\n",
       "    <tr>\n",
       "      <th>8805</th>\n",
       "      <td>s8806</td>\n",
       "      <td>Movie</td>\n",
       "      <td>Zoom</td>\n",
       "      <td>Peter Hewitt</td>\n",
       "      <td>Tim Allen, Courteney Cox, Chevy Chase, Kate Ma...</td>\n",
       "      <td>United States</td>\n",
       "      <td>January 11, 2020</td>\n",
       "      <td>2006</td>\n",
       "      <td>PG</td>\n",
       "      <td>88 min</td>\n",
       "      <td>Children &amp; Family Movies, Comedies</td>\n",
       "      <td>Dragged from civilian life, a former superhero...</td>\n",
       "    </tr>\n",
       "    <tr>\n",
       "      <th>8806</th>\n",
       "      <td>s8807</td>\n",
       "      <td>Movie</td>\n",
       "      <td>Zubaan</td>\n",
       "      <td>Mozez Singh</td>\n",
       "      <td>Vicky Kaushal, Sarah-Jane Dias, Raaghav Chanan...</td>\n",
       "      <td>India</td>\n",
       "      <td>March 2, 2019</td>\n",
       "      <td>2015</td>\n",
       "      <td>TV-14</td>\n",
       "      <td>111 min</td>\n",
       "      <td>Dramas, International Movies, Music &amp; Musicals</td>\n",
       "      <td>A scrappy but poor boy worms his way into a ty...</td>\n",
       "    </tr>\n",
       "  </tbody>\n",
       "</table>\n",
       "<p>8807 rows × 12 columns</p>\n",
       "</div>"
      ],
      "text/plain": [
       "     show_id     type                  title         director  \\\n",
       "0         s1    Movie   Dick Johnson Is Dead  Kirsten Johnson   \n",
       "1         s2  TV Show          Blood & Water              NaN   \n",
       "2         s3  TV Show              Ganglands  Julien Leclercq   \n",
       "3         s4  TV Show  Jailbirds New Orleans              NaN   \n",
       "4         s5  TV Show           Kota Factory              NaN   \n",
       "...      ...      ...                    ...              ...   \n",
       "8802   s8803    Movie                 Zodiac    David Fincher   \n",
       "8803   s8804  TV Show            Zombie Dumb              NaN   \n",
       "8804   s8805    Movie             Zombieland  Ruben Fleischer   \n",
       "8805   s8806    Movie                   Zoom     Peter Hewitt   \n",
       "8806   s8807    Movie                 Zubaan      Mozez Singh   \n",
       "\n",
       "                                                   cast        country  \\\n",
       "0                                                   NaN  United States   \n",
       "1     Ama Qamata, Khosi Ngema, Gail Mabalane, Thaban...   South Africa   \n",
       "2     Sami Bouajila, Tracy Gotoas, Samuel Jouy, Nabi...            NaN   \n",
       "3                                                   NaN            NaN   \n",
       "4     Mayur More, Jitendra Kumar, Ranjan Raj, Alam K...          India   \n",
       "...                                                 ...            ...   \n",
       "8802  Mark Ruffalo, Jake Gyllenhaal, Robert Downey J...  United States   \n",
       "8803                                                NaN            NaN   \n",
       "8804  Jesse Eisenberg, Woody Harrelson, Emma Stone, ...  United States   \n",
       "8805  Tim Allen, Courteney Cox, Chevy Chase, Kate Ma...  United States   \n",
       "8806  Vicky Kaushal, Sarah-Jane Dias, Raaghav Chanan...          India   \n",
       "\n",
       "              date_added  release_year rating   duration  \\\n",
       "0     September 25, 2021          2020  PG-13     90 min   \n",
       "1     September 24, 2021          2021  TV-MA  2 Seasons   \n",
       "2     September 24, 2021          2021  TV-MA   1 Season   \n",
       "3     September 24, 2021          2021  TV-MA   1 Season   \n",
       "4     September 24, 2021          2021  TV-MA  2 Seasons   \n",
       "...                  ...           ...    ...        ...   \n",
       "8802   November 20, 2019          2007      R    158 min   \n",
       "8803        July 1, 2019          2018  TV-Y7  2 Seasons   \n",
       "8804    November 1, 2019          2009      R     88 min   \n",
       "8805    January 11, 2020          2006     PG     88 min   \n",
       "8806       March 2, 2019          2015  TV-14    111 min   \n",
       "\n",
       "                                              listed_in  \\\n",
       "0                                         Documentaries   \n",
       "1       International TV Shows, TV Dramas, TV Mysteries   \n",
       "2     Crime TV Shows, International TV Shows, TV Act...   \n",
       "3                                Docuseries, Reality TV   \n",
       "4     International TV Shows, Romantic TV Shows, TV ...   \n",
       "...                                                 ...   \n",
       "8802                     Cult Movies, Dramas, Thrillers   \n",
       "8803             Kids' TV, Korean TV Shows, TV Comedies   \n",
       "8804                            Comedies, Horror Movies   \n",
       "8805                 Children & Family Movies, Comedies   \n",
       "8806     Dramas, International Movies, Music & Musicals   \n",
       "\n",
       "                                            description  \n",
       "0     As her father nears the end of his life, filmm...  \n",
       "1     After crossing paths at a party, a Cape Town t...  \n",
       "2     To protect his family from a powerful drug lor...  \n",
       "3     Feuds, flirtations and toilet talk go down amo...  \n",
       "4     In a city of coaching centers known to train I...  \n",
       "...                                                 ...  \n",
       "8802  A political cartoonist, a crime reporter and a...  \n",
       "8803  While living alone in a spooky town, a young g...  \n",
       "8804  Looking to survive in a world taken over by zo...  \n",
       "8805  Dragged from civilian life, a former superhero...  \n",
       "8806  A scrappy but poor boy worms his way into a ty...  \n",
       "\n",
       "[8807 rows x 12 columns]"
      ]
     },
     "execution_count": 8,
     "metadata": {},
     "output_type": "execute_result"
    }
   ],
   "source": [
    "df=pd.read_csv('netflix.csv')\n",
    "df"
   ]
  },
  {
   "cell_type": "markdown",
   "id": "f5b5e38b",
   "metadata": {},
   "source": [
    "# shape of data"
   ]
  },
  {
   "cell_type": "code",
   "execution_count": 4,
   "id": "dc47c6b0",
   "metadata": {},
   "outputs": [
    {
     "data": {
      "text/plain": [
       "(8807, 12)"
      ]
     },
     "execution_count": 4,
     "metadata": {},
     "output_type": "execute_result"
    }
   ],
   "source": [
    "df.shape"
   ]
  },
  {
   "cell_type": "markdown",
   "id": "cdabf8e2",
   "metadata": {},
   "source": [
    "# Data types of all the attributes"
   ]
  },
  {
   "cell_type": "code",
   "execution_count": 9,
   "id": "8bbefe2b",
   "metadata": {},
   "outputs": [
    {
     "name": "stdout",
     "output_type": "stream",
     "text": [
      "<class 'pandas.core.frame.DataFrame'>\n",
      "RangeIndex: 8807 entries, 0 to 8806\n",
      "Data columns (total 12 columns):\n",
      " #   Column        Non-Null Count  Dtype \n",
      "---  ------        --------------  ----- \n",
      " 0   show_id       8807 non-null   object\n",
      " 1   type          8807 non-null   object\n",
      " 2   title         8807 non-null   object\n",
      " 3   director      6173 non-null   object\n",
      " 4   cast          7982 non-null   object\n",
      " 5   country       7976 non-null   object\n",
      " 6   date_added    8797 non-null   object\n",
      " 7   release_year  8807 non-null   int64 \n",
      " 8   rating        8803 non-null   object\n",
      " 9   duration      8804 non-null   object\n",
      " 10  listed_in     8807 non-null   object\n",
      " 11  description   8807 non-null   object\n",
      "dtypes: int64(1), object(11)\n",
      "memory usage: 825.8+ KB\n"
     ]
    }
   ],
   "source": [
    "df.info()"
   ]
  },
  {
   "cell_type": "markdown",
   "id": "a81da755",
   "metadata": {},
   "source": [
    "# date_added should be converted to DateTime format"
   ]
  },
  {
   "cell_type": "code",
   "execution_count": 11,
   "id": "b10819ea",
   "metadata": {},
   "outputs": [
    {
     "data": {
      "text/plain": [
       "str"
      ]
     },
     "execution_count": 11,
     "metadata": {},
     "output_type": "execute_result"
    }
   ],
   "source": [
    "type(df[\"date_added\"][0]) ### type of date_added is in string format, we will change it in datetime format"
   ]
  },
  {
   "cell_type": "code",
   "execution_count": 12,
   "id": "28c152ee",
   "metadata": {},
   "outputs": [],
   "source": [
    "df[\"date_added\"]=pd.to_datetime(df[\"date_added\"])"
   ]
  },
  {
   "cell_type": "code",
   "execution_count": 14,
   "id": "fadb1c44",
   "metadata": {},
   "outputs": [
    {
     "data": {
      "text/plain": [
       "pandas._libs.tslibs.timestamps.Timestamp"
      ]
     },
     "execution_count": 14,
     "metadata": {},
     "output_type": "execute_result"
    }
   ],
   "source": [
    "type(df[\"date_added\"][0])"
   ]
  },
  {
   "cell_type": "code",
   "execution_count": 17,
   "id": "770a2b5c",
   "metadata": {},
   "outputs": [
    {
     "name": "stdout",
     "output_type": "stream",
     "text": [
      "<class 'pandas.core.frame.DataFrame'>\n",
      "RangeIndex: 8807 entries, 0 to 8806\n",
      "Data columns (total 12 columns):\n",
      " #   Column        Non-Null Count  Dtype         \n",
      "---  ------        --------------  -----         \n",
      " 0   show_id       8807 non-null   object        \n",
      " 1   type          8807 non-null   object        \n",
      " 2   title         8807 non-null   object        \n",
      " 3   director      6173 non-null   object        \n",
      " 4   cast          7982 non-null   object        \n",
      " 5   country       7976 non-null   object        \n",
      " 6   date_added    8797 non-null   datetime64[ns]\n",
      " 7   release_year  8807 non-null   int64         \n",
      " 8   rating        8803 non-null   object        \n",
      " 9   duration      8804 non-null   object        \n",
      " 10  listed_in     8807 non-null   object        \n",
      " 11  description   8807 non-null   object        \n",
      "dtypes: datetime64[ns](1), int64(1), object(10)\n",
      "memory usage: 825.8+ KB\n"
     ]
    }
   ],
   "source": [
    "df.info()"
   ]
  },
  {
   "cell_type": "markdown",
   "id": "36db817a",
   "metadata": {},
   "source": [
    "# Unique values in data"
   ]
  },
  {
   "cell_type": "code",
   "execution_count": 18,
   "id": "bf42af09",
   "metadata": {},
   "outputs": [
    {
     "data": {
      "text/plain": [
       "show_id         8807\n",
       "type               2\n",
       "title           8807\n",
       "director        4528\n",
       "cast            7692\n",
       "country          748\n",
       "date_added      1714\n",
       "release_year      74\n",
       "rating            17\n",
       "duration         220\n",
       "listed_in        514\n",
       "description     8775\n",
       "dtype: int64"
      ]
     },
     "execution_count": 18,
     "metadata": {},
     "output_type": "execute_result"
    }
   ],
   "source": [
    "df.nunique()"
   ]
  },
  {
   "cell_type": "code",
   "execution_count": 19,
   "id": "17a95c67",
   "metadata": {},
   "outputs": [
    {
     "data": {
      "text/plain": [
       "Movie      6131\n",
       "TV Show    2676\n",
       "Name: type, dtype: int64"
      ]
     },
     "execution_count": 19,
     "metadata": {},
     "output_type": "execute_result"
    }
   ],
   "source": [
    "df[\"type\"].value_counts()"
   ]
  },
  {
   "cell_type": "code",
   "execution_count": 21,
   "id": "14e517d2",
   "metadata": {},
   "outputs": [
    {
     "data": {
      "text/plain": [
       "TV-MA       3207\n",
       "TV-14       2160\n",
       "TV-PG        863\n",
       "R            799\n",
       "PG-13        490\n",
       "TV-Y7        334\n",
       "TV-Y         307\n",
       "PG           287\n",
       "TV-G         220\n",
       "NR            80\n",
       "G             41\n",
       "TV-Y7-FV       6\n",
       "NC-17          3\n",
       "UR             3\n",
       "74 min         1\n",
       "84 min         1\n",
       "66 min         1\n",
       "Name: rating, dtype: int64"
      ]
     },
     "execution_count": 21,
     "metadata": {},
     "output_type": "execute_result"
    }
   ],
   "source": [
    "df[\"rating\"].value_counts() "
   ]
  },
  {
   "cell_type": "markdown",
   "id": "7a94fabd",
   "metadata": {},
   "source": [
    " # Some mess with rating column we will sort in pre processing there are three \"min\" values"
   ]
  },
  {
   "cell_type": "markdown",
   "id": "014a7e00",
   "metadata": {},
   "source": [
    "# Missing value check and pre processing the data"
   ]
  },
  {
   "cell_type": "code",
   "execution_count": 22,
   "id": "87711973",
   "metadata": {},
   "outputs": [
    {
     "data": {
      "text/plain": [
       "show_id            0\n",
       "type               0\n",
       "title              0\n",
       "director        2634\n",
       "cast             825\n",
       "country          831\n",
       "date_added        10\n",
       "release_year       0\n",
       "rating             4\n",
       "duration           3\n",
       "listed_in          0\n",
       "description        0\n",
       "dtype: int64"
      ]
     },
     "execution_count": 22,
     "metadata": {},
     "output_type": "execute_result"
    }
   ],
   "source": [
    "df.isna().sum() #many NaN values in catagorical data points like director, cast, country"
   ]
  },
  {
   "cell_type": "markdown",
   "id": "e7f36bb2",
   "metadata": {},
   "source": [
    "# To fill unknown values"
   ]
  },
  {
   "cell_type": "code",
   "execution_count": 24,
   "id": "cb4b67a8",
   "metadata": {},
   "outputs": [
    {
     "data": {
      "text/html": [
       "<div>\n",
       "<style scoped>\n",
       "    .dataframe tbody tr th:only-of-type {\n",
       "        vertical-align: middle;\n",
       "    }\n",
       "\n",
       "    .dataframe tbody tr th {\n",
       "        vertical-align: top;\n",
       "    }\n",
       "\n",
       "    .dataframe thead th {\n",
       "        text-align: right;\n",
       "    }\n",
       "</style>\n",
       "<table border=\"1\" class=\"dataframe\">\n",
       "  <thead>\n",
       "    <tr style=\"text-align: right;\">\n",
       "      <th></th>\n",
       "      <th>show_id</th>\n",
       "      <th>type</th>\n",
       "      <th>title</th>\n",
       "      <th>director</th>\n",
       "      <th>cast</th>\n",
       "      <th>country</th>\n",
       "      <th>date_added</th>\n",
       "      <th>release_year</th>\n",
       "      <th>rating</th>\n",
       "      <th>duration</th>\n",
       "      <th>listed_in</th>\n",
       "      <th>description</th>\n",
       "    </tr>\n",
       "  </thead>\n",
       "  <tbody>\n",
       "    <tr>\n",
       "      <th>5541</th>\n",
       "      <td>s5542</td>\n",
       "      <td>Movie</td>\n",
       "      <td>Louis C.K. 2017</td>\n",
       "      <td>Louis C.K.</td>\n",
       "      <td>Louis C.K.</td>\n",
       "      <td>United States</td>\n",
       "      <td>2017-04-04</td>\n",
       "      <td>2017</td>\n",
       "      <td>74 min</td>\n",
       "      <td>NaN</td>\n",
       "      <td>Movies</td>\n",
       "      <td>Louis C.K. muses on religion, eternal love, gi...</td>\n",
       "    </tr>\n",
       "  </tbody>\n",
       "</table>\n",
       "</div>"
      ],
      "text/plain": [
       "     show_id   type            title    director        cast        country  \\\n",
       "5541   s5542  Movie  Louis C.K. 2017  Louis C.K.  Louis C.K.  United States   \n",
       "\n",
       "     date_added  release_year  rating duration listed_in  \\\n",
       "5541 2017-04-04          2017  74 min      NaN    Movies   \n",
       "\n",
       "                                            description  \n",
       "5541  Louis C.K. muses on religion, eternal love, gi...  "
      ]
     },
     "execution_count": 24,
     "metadata": {},
     "output_type": "execute_result"
    }
   ],
   "source": [
    "df.loc[df[\"rating\"]==\"74 min\"]"
   ]
  },
  {
   "cell_type": "code",
   "execution_count": 25,
   "id": "e5e9a6b7",
   "metadata": {},
   "outputs": [
    {
     "data": {
      "text/html": [
       "<div>\n",
       "<style scoped>\n",
       "    .dataframe tbody tr th:only-of-type {\n",
       "        vertical-align: middle;\n",
       "    }\n",
       "\n",
       "    .dataframe tbody tr th {\n",
       "        vertical-align: top;\n",
       "    }\n",
       "\n",
       "    .dataframe thead th {\n",
       "        text-align: right;\n",
       "    }\n",
       "</style>\n",
       "<table border=\"1\" class=\"dataframe\">\n",
       "  <thead>\n",
       "    <tr style=\"text-align: right;\">\n",
       "      <th></th>\n",
       "      <th>show_id</th>\n",
       "      <th>type</th>\n",
       "      <th>title</th>\n",
       "      <th>director</th>\n",
       "      <th>cast</th>\n",
       "      <th>country</th>\n",
       "      <th>date_added</th>\n",
       "      <th>release_year</th>\n",
       "      <th>rating</th>\n",
       "      <th>duration</th>\n",
       "      <th>listed_in</th>\n",
       "      <th>description</th>\n",
       "    </tr>\n",
       "  </thead>\n",
       "  <tbody>\n",
       "    <tr>\n",
       "      <th>5541</th>\n",
       "      <td>s5542</td>\n",
       "      <td>Movie</td>\n",
       "      <td>Louis C.K. 2017</td>\n",
       "      <td>Louis C.K.</td>\n",
       "      <td>Louis C.K.</td>\n",
       "      <td>United States</td>\n",
       "      <td>2017-04-04</td>\n",
       "      <td>2017</td>\n",
       "      <td>74 min</td>\n",
       "      <td>NaN</td>\n",
       "      <td>Movies</td>\n",
       "      <td>Louis C.K. muses on religion, eternal love, gi...</td>\n",
       "    </tr>\n",
       "    <tr>\n",
       "      <th>5794</th>\n",
       "      <td>s5795</td>\n",
       "      <td>Movie</td>\n",
       "      <td>Louis C.K.: Hilarious</td>\n",
       "      <td>Louis C.K.</td>\n",
       "      <td>Louis C.K.</td>\n",
       "      <td>United States</td>\n",
       "      <td>2016-09-16</td>\n",
       "      <td>2010</td>\n",
       "      <td>84 min</td>\n",
       "      <td>NaN</td>\n",
       "      <td>Movies</td>\n",
       "      <td>Emmy-winning comedy writer Louis C.K. brings h...</td>\n",
       "    </tr>\n",
       "    <tr>\n",
       "      <th>5813</th>\n",
       "      <td>s5814</td>\n",
       "      <td>Movie</td>\n",
       "      <td>Louis C.K.: Live at the Comedy Store</td>\n",
       "      <td>Louis C.K.</td>\n",
       "      <td>Louis C.K.</td>\n",
       "      <td>United States</td>\n",
       "      <td>2016-08-15</td>\n",
       "      <td>2015</td>\n",
       "      <td>66 min</td>\n",
       "      <td>NaN</td>\n",
       "      <td>Movies</td>\n",
       "      <td>The comic puts his trademark hilarious/thought...</td>\n",
       "    </tr>\n",
       "  </tbody>\n",
       "</table>\n",
       "</div>"
      ],
      "text/plain": [
       "     show_id   type                                 title    director  \\\n",
       "5541   s5542  Movie                       Louis C.K. 2017  Louis C.K.   \n",
       "5794   s5795  Movie                 Louis C.K.: Hilarious  Louis C.K.   \n",
       "5813   s5814  Movie  Louis C.K.: Live at the Comedy Store  Louis C.K.   \n",
       "\n",
       "            cast        country date_added  release_year  rating duration  \\\n",
       "5541  Louis C.K.  United States 2017-04-04          2017  74 min      NaN   \n",
       "5794  Louis C.K.  United States 2016-09-16          2010  84 min      NaN   \n",
       "5813  Louis C.K.  United States 2016-08-15          2015  66 min      NaN   \n",
       "\n",
       "     listed_in                                        description  \n",
       "5541    Movies  Louis C.K. muses on religion, eternal love, gi...  \n",
       "5794    Movies  Emmy-winning comedy writer Louis C.K. brings h...  \n",
       "5813    Movies  The comic puts his trademark hilarious/thought...  "
      ]
     },
     "execution_count": 25,
     "metadata": {},
     "output_type": "execute_result"
    }
   ],
   "source": [
    "df.loc[df[\"duration\"].isna()]"
   ]
  },
  {
   "cell_type": "code",
   "execution_count": 27,
   "id": "7e5e99a4",
   "metadata": {},
   "outputs": [],
   "source": [
    "df[\"duration\"]=df[\"duration\"].fillna(df[\"rating\"])"
   ]
  },
  {
   "cell_type": "code",
   "execution_count": 28,
   "id": "3577bdc0",
   "metadata": {},
   "outputs": [
    {
     "name": "stderr",
     "output_type": "stream",
     "text": [
      "C:\\Users\\Priya\\AppData\\Local\\Temp\\ipykernel_648\\3016680574.py:1: SettingWithCopyWarning: \n",
      "A value is trying to be set on a copy of a slice from a DataFrame\n",
      "\n",
      "See the caveats in the documentation: https://pandas.pydata.org/pandas-docs/stable/user_guide/indexing.html#returning-a-view-versus-a-copy\n",
      "  df[\"rating\"][[5541,5794,5813]]=np.nan\n"
     ]
    }
   ],
   "source": [
    "df[\"rating\"][[5541,5794,5813]]=np.nan"
   ]
  },
  {
   "cell_type": "code",
   "execution_count": 29,
   "id": "e8473e70",
   "metadata": {},
   "outputs": [
    {
     "data": {
      "text/plain": [
       "show_id            0\n",
       "type               0\n",
       "title              0\n",
       "director        2634\n",
       "cast             825\n",
       "country          831\n",
       "date_added        10\n",
       "release_year       0\n",
       "rating             7\n",
       "duration           0\n",
       "listed_in          0\n",
       "description        0\n",
       "dtype: int64"
      ]
     },
     "execution_count": 29,
     "metadata": {},
     "output_type": "execute_result"
    }
   ],
   "source": [
    "df.isna().sum()  ### duration column is sorted"
   ]
  },
  {
   "cell_type": "code",
   "execution_count": 30,
   "id": "c4c1bf60",
   "metadata": {},
   "outputs": [
    {
     "data": {
      "text/html": [
       "<div>\n",
       "<style scoped>\n",
       "    .dataframe tbody tr th:only-of-type {\n",
       "        vertical-align: middle;\n",
       "    }\n",
       "\n",
       "    .dataframe tbody tr th {\n",
       "        vertical-align: top;\n",
       "    }\n",
       "\n",
       "    .dataframe thead th {\n",
       "        text-align: right;\n",
       "    }\n",
       "</style>\n",
       "<table border=\"1\" class=\"dataframe\">\n",
       "  <thead>\n",
       "    <tr style=\"text-align: right;\">\n",
       "      <th></th>\n",
       "      <th>show_id</th>\n",
       "      <th>type</th>\n",
       "      <th>title</th>\n",
       "      <th>director</th>\n",
       "      <th>cast</th>\n",
       "      <th>country</th>\n",
       "      <th>date_added</th>\n",
       "      <th>release_year</th>\n",
       "      <th>rating</th>\n",
       "      <th>duration</th>\n",
       "      <th>listed_in</th>\n",
       "      <th>description</th>\n",
       "    </tr>\n",
       "  </thead>\n",
       "  <tbody>\n",
       "    <tr>\n",
       "      <th>5541</th>\n",
       "      <td>s5542</td>\n",
       "      <td>Movie</td>\n",
       "      <td>Louis C.K. 2017</td>\n",
       "      <td>Louis C.K.</td>\n",
       "      <td>Louis C.K.</td>\n",
       "      <td>United States</td>\n",
       "      <td>2017-04-04</td>\n",
       "      <td>2017</td>\n",
       "      <td>NaN</td>\n",
       "      <td>74 min</td>\n",
       "      <td>Movies</td>\n",
       "      <td>Louis C.K. muses on religion, eternal love, gi...</td>\n",
       "    </tr>\n",
       "    <tr>\n",
       "      <th>5794</th>\n",
       "      <td>s5795</td>\n",
       "      <td>Movie</td>\n",
       "      <td>Louis C.K.: Hilarious</td>\n",
       "      <td>Louis C.K.</td>\n",
       "      <td>Louis C.K.</td>\n",
       "      <td>United States</td>\n",
       "      <td>2016-09-16</td>\n",
       "      <td>2010</td>\n",
       "      <td>NaN</td>\n",
       "      <td>84 min</td>\n",
       "      <td>Movies</td>\n",
       "      <td>Emmy-winning comedy writer Louis C.K. brings h...</td>\n",
       "    </tr>\n",
       "    <tr>\n",
       "      <th>5813</th>\n",
       "      <td>s5814</td>\n",
       "      <td>Movie</td>\n",
       "      <td>Louis C.K.: Live at the Comedy Store</td>\n",
       "      <td>Louis C.K.</td>\n",
       "      <td>Louis C.K.</td>\n",
       "      <td>United States</td>\n",
       "      <td>2016-08-15</td>\n",
       "      <td>2015</td>\n",
       "      <td>NaN</td>\n",
       "      <td>66 min</td>\n",
       "      <td>Movies</td>\n",
       "      <td>The comic puts his trademark hilarious/thought...</td>\n",
       "    </tr>\n",
       "    <tr>\n",
       "      <th>5989</th>\n",
       "      <td>s5990</td>\n",
       "      <td>Movie</td>\n",
       "      <td>13TH: A Conversation with Oprah Winfrey &amp; Ava ...</td>\n",
       "      <td>NaN</td>\n",
       "      <td>Oprah Winfrey, Ava DuVernay</td>\n",
       "      <td>NaN</td>\n",
       "      <td>2017-01-26</td>\n",
       "      <td>2017</td>\n",
       "      <td>NaN</td>\n",
       "      <td>37 min</td>\n",
       "      <td>Movies</td>\n",
       "      <td>Oprah Winfrey sits down with director Ava DuVe...</td>\n",
       "    </tr>\n",
       "    <tr>\n",
       "      <th>6827</th>\n",
       "      <td>s6828</td>\n",
       "      <td>TV Show</td>\n",
       "      <td>Gargantia on the Verdurous Planet</td>\n",
       "      <td>NaN</td>\n",
       "      <td>Kaito Ishikawa, Hisako Kanemoto, Ai Kayano, Ka...</td>\n",
       "      <td>Japan</td>\n",
       "      <td>2016-12-01</td>\n",
       "      <td>2013</td>\n",
       "      <td>NaN</td>\n",
       "      <td>1 Season</td>\n",
       "      <td>Anime Series, International TV Shows</td>\n",
       "      <td>After falling through a wormhole, a space-dwel...</td>\n",
       "    </tr>\n",
       "    <tr>\n",
       "      <th>7312</th>\n",
       "      <td>s7313</td>\n",
       "      <td>TV Show</td>\n",
       "      <td>Little Lunch</td>\n",
       "      <td>NaN</td>\n",
       "      <td>Flynn Curry, Olivia Deeble, Madison Lu, Oisín ...</td>\n",
       "      <td>Australia</td>\n",
       "      <td>2018-02-01</td>\n",
       "      <td>2015</td>\n",
       "      <td>NaN</td>\n",
       "      <td>1 Season</td>\n",
       "      <td>Kids' TV, TV Comedies</td>\n",
       "      <td>Adopting a child's perspective, this show take...</td>\n",
       "    </tr>\n",
       "    <tr>\n",
       "      <th>7537</th>\n",
       "      <td>s7538</td>\n",
       "      <td>Movie</td>\n",
       "      <td>My Honor Was Loyalty</td>\n",
       "      <td>Alessandro Pepe</td>\n",
       "      <td>Leone Frisa, Paolo Vaccarino, Francesco Miglio...</td>\n",
       "      <td>Italy</td>\n",
       "      <td>2017-03-01</td>\n",
       "      <td>2015</td>\n",
       "      <td>NaN</td>\n",
       "      <td>115 min</td>\n",
       "      <td>Dramas</td>\n",
       "      <td>Amid the chaos and horror of World War II, a c...</td>\n",
       "    </tr>\n",
       "  </tbody>\n",
       "</table>\n",
       "</div>"
      ],
      "text/plain": [
       "     show_id     type                                              title  \\\n",
       "5541   s5542    Movie                                    Louis C.K. 2017   \n",
       "5794   s5795    Movie                              Louis C.K.: Hilarious   \n",
       "5813   s5814    Movie               Louis C.K.: Live at the Comedy Store   \n",
       "5989   s5990    Movie  13TH: A Conversation with Oprah Winfrey & Ava ...   \n",
       "6827   s6828  TV Show                  Gargantia on the Verdurous Planet   \n",
       "7312   s7313  TV Show                                       Little Lunch   \n",
       "7537   s7538    Movie                               My Honor Was Loyalty   \n",
       "\n",
       "             director                                               cast  \\\n",
       "5541       Louis C.K.                                         Louis C.K.   \n",
       "5794       Louis C.K.                                         Louis C.K.   \n",
       "5813       Louis C.K.                                         Louis C.K.   \n",
       "5989              NaN                        Oprah Winfrey, Ava DuVernay   \n",
       "6827              NaN  Kaito Ishikawa, Hisako Kanemoto, Ai Kayano, Ka...   \n",
       "7312              NaN  Flynn Curry, Olivia Deeble, Madison Lu, Oisín ...   \n",
       "7537  Alessandro Pepe  Leone Frisa, Paolo Vaccarino, Francesco Miglio...   \n",
       "\n",
       "            country date_added  release_year rating  duration  \\\n",
       "5541  United States 2017-04-04          2017    NaN    74 min   \n",
       "5794  United States 2016-09-16          2010    NaN    84 min   \n",
       "5813  United States 2016-08-15          2015    NaN    66 min   \n",
       "5989            NaN 2017-01-26          2017    NaN    37 min   \n",
       "6827          Japan 2016-12-01          2013    NaN  1 Season   \n",
       "7312      Australia 2018-02-01          2015    NaN  1 Season   \n",
       "7537          Italy 2017-03-01          2015    NaN   115 min   \n",
       "\n",
       "                                 listed_in  \\\n",
       "5541                                Movies   \n",
       "5794                                Movies   \n",
       "5813                                Movies   \n",
       "5989                                Movies   \n",
       "6827  Anime Series, International TV Shows   \n",
       "7312                 Kids' TV, TV Comedies   \n",
       "7537                                Dramas   \n",
       "\n",
       "                                            description  \n",
       "5541  Louis C.K. muses on religion, eternal love, gi...  \n",
       "5794  Emmy-winning comedy writer Louis C.K. brings h...  \n",
       "5813  The comic puts his trademark hilarious/thought...  \n",
       "5989  Oprah Winfrey sits down with director Ava DuVe...  \n",
       "6827  After falling through a wormhole, a space-dwel...  \n",
       "7312  Adopting a child's perspective, this show take...  \n",
       "7537  Amid the chaos and horror of World War II, a c...  "
      ]
     },
     "execution_count": 30,
     "metadata": {},
     "output_type": "execute_result"
    }
   ],
   "source": [
    "df.loc[df[\"rating\"].isna()]"
   ]
  },
  {
   "cell_type": "code",
   "execution_count": 31,
   "id": "a00f9aee",
   "metadata": {},
   "outputs": [],
   "source": [
    "df[\"rating\"]=df[\"rating\"].fillna(\"unkown_rating\")\n",
    "df[\"director\"]=df[\"director\"].fillna(\"unknown_director\")\n",
    "df[\"cast\"]=df[\"cast\"].fillna(\"unknown_actor\")\n",
    "df[\"country\"]=df[\"country\"].fillna(\"unknown_country\")"
   ]
  },
  {
   "cell_type": "code",
   "execution_count": 32,
   "id": "ca461436",
   "metadata": {},
   "outputs": [
    {
     "data": {
      "text/plain": [
       "show_id          0\n",
       "type             0\n",
       "title            0\n",
       "director         0\n",
       "cast             0\n",
       "country          0\n",
       "date_added      10\n",
       "release_year     0\n",
       "rating           0\n",
       "duration         0\n",
       "listed_in        0\n",
       "description      0\n",
       "dtype: int64"
      ]
     },
     "execution_count": 32,
     "metadata": {},
     "output_type": "execute_result"
    }
   ],
   "source": [
    "df.isna().sum() # All missing values are filled except date_added."
   ]
  },
  {
   "cell_type": "markdown",
   "id": "ff8072d0",
   "metadata": {},
   "source": [
    "# Univariate analysis"
   ]
  },
  {
   "cell_type": "code",
   "execution_count": 83,
   "id": "c552a350",
   "metadata": {},
   "outputs": [
    {
     "data": {
      "image/png": "[encoded data removed]",
      "text/plain": [
       "<Figure size 432x288 with 1 Axes>"
      ]
     },
     "metadata": {
      "needs_background": "light"
     },
     "output_type": "display_data"
    }
   ],
   "source": [
    "sns.countplot(data=df,x=\"type\")\n",
    "plt.xticks(rotation=45)\n",
    "plt.title(\"Count of type\")\n",
    "plt.show()"
   ]
  },
  {
   "cell_type": "markdown",
   "id": "68b5853d",
   "metadata": {},
   "source": [
    "Movies are majorly added in Netflix then TV_show"
   ]
  },
  {
   "cell_type": "code",
   "execution_count": null,
   "id": "43193c58",
   "metadata": {},
   "outputs": [],
   "source": []
  },
  {
   "cell_type": "markdown",
   "id": "bdab456a",
   "metadata": {},
   "source": [
    "# Relation between type and Rating plot"
   ]
  },
  {
   "cell_type": "code",
   "execution_count": 35,
   "id": "98df190a",
   "metadata": {},
   "outputs": [
    {
     "data": {
      "image/png": "[encoded data removed]",
      "text/plain": [
       "<Figure size 504x432 with 1 Axes>"
      ]
     },
     "metadata": {
      "needs_background": "light"
     },
     "output_type": "display_data"
    }
   ],
   "source": [
    "plt.figure(figsize=(7,6))  \n",
    "sns.countplot(x='rating',\n",
    "            hue='type',\n",
    "            data=df)\n",
    "plt.xticks(rotation=90)\n",
    "plt.title('Relation between Type and Rating')\n",
    "plt.show()"
   ]
  },
  {
   "cell_type": "markdown",
   "id": "de02cb22",
   "metadata": {},
   "source": [
    "Majority of the rating is TV-MA and TV-14\n",
    "TV-14 - these shows may be unsuitable for children under 14\n",
    "TV-MA - these programs are intended to be viewed by mature, adult audiences and may be unsuitable for children under 17"
   ]
  },
  {
   "cell_type": "code",
   "execution_count": null,
   "id": "d26b1e74",
   "metadata": {},
   "outputs": [],
   "source": []
  },
  {
   "cell_type": "markdown",
   "id": "b5208412",
   "metadata": {},
   "source": [
    "# Distribution of movies and TV_show"
   ]
  },
  {
   "cell_type": "code",
   "execution_count": 36,
   "id": "d0aa1987",
   "metadata": {},
   "outputs": [
    {
     "data": {
      "image/png": "[encoded data removed]",
      "text/plain": [
       "<Figure size 504x360 with 1 Axes>"
      ]
     },
     "metadata": {
      "needs_background": "light"
     },
     "output_type": "display_data"
    }
   ],
   "source": [
    "plt.figure(figsize=(7,5))\n",
    "sns.kdeplot(x='release_year',\n",
    "            hue='type',\n",
    "            data=df)\n",
    "plt.title(\"Distribution of type with respect to year\")\n",
    "plt.show()"
   ]
  },
  {
   "cell_type": "code",
   "execution_count": null,
   "id": "9dd0cece",
   "metadata": {},
   "outputs": [],
   "source": [
    "Majority of the movies are form approx 2008 to 2022 and TV_shows are from approx 2012 to 2022"
   ]
  },
  {
   "cell_type": "code",
   "execution_count": null,
   "id": "291867a8",
   "metadata": {},
   "outputs": [],
   "source": []
  },
  {
   "cell_type": "markdown",
   "id": "41bae6cb",
   "metadata": {},
   "source": [
    "# Un-nesting the columns with multiple values with seperated with comma \", \""
   ]
  },
  {
   "cell_type": "code",
   "execution_count": 37,
   "id": "9b216e94",
   "metadata": {},
   "outputs": [
    {
     "name": "stderr",
     "output_type": "stream",
     "text": [
      "C:\\Users\\Priya\\AppData\\Local\\Temp\\ipykernel_648\\2690144395.py:2: SettingWithCopyWarning: \n",
      "A value is trying to be set on a copy of a slice from a DataFrame.\n",
      "Try using .loc[row_indexer,col_indexer] = value instead\n",
      "\n",
      "See the caveats in the documentation: https://pandas.pydata.org/pandas-docs/stable/user_guide/indexing.html#returning-a-view-versus-a-copy\n",
      "  df_dir[\"director\"]=df_dir[\"director\"].str.split(\", \")   ### spliting the columns and using explode\n"
     ]
    }
   ],
   "source": [
    "df_dir=df[[\"title\", \"director\"]]\n",
    "df_dir[\"director\"]=df_dir[\"director\"].str.split(\", \")   ### spliting the columns and using explode\n",
    "df_dir=df_dir.explode(\"director\")"
   ]
  },
  {
   "cell_type": "code",
   "execution_count": 39,
   "id": "4bdcc174",
   "metadata": {},
   "outputs": [
    {
     "name": "stderr",
     "output_type": "stream",
     "text": [
      "C:\\Users\\Priya\\AppData\\Local\\Temp\\ipykernel_648\\2452114132.py:2: SettingWithCopyWarning: \n",
      "A value is trying to be set on a copy of a slice from a DataFrame.\n",
      "Try using .loc[row_indexer,col_indexer] = value instead\n",
      "\n",
      "See the caveats in the documentation: https://pandas.pydata.org/pandas-docs/stable/user_guide/indexing.html#returning-a-view-versus-a-copy\n",
      "  df_c[\"cast\"]=df_c[\"cast\"].str.split(\", \")\n"
     ]
    }
   ],
   "source": [
    "df_c=df[[\"title\", \"cast\"]]\n",
    "df_c[\"cast\"]=df_c[\"cast\"].str.split(\", \")\n",
    "df_c=df_c.explode(\"cast\")"
   ]
  },
  {
   "cell_type": "code",
   "execution_count": 40,
   "id": "c0f502bc",
   "metadata": {},
   "outputs": [
    {
     "name": "stderr",
     "output_type": "stream",
     "text": [
      "C:\\Users\\Priya\\AppData\\Local\\Temp\\ipykernel_648\\3752947306.py:2: SettingWithCopyWarning: \n",
      "A value is trying to be set on a copy of a slice from a DataFrame.\n",
      "Try using .loc[row_indexer,col_indexer] = value instead\n",
      "\n",
      "See the caveats in the documentation: https://pandas.pydata.org/pandas-docs/stable/user_guide/indexing.html#returning-a-view-versus-a-copy\n",
      "  df_li[\"listed_in\"]=df_li[\"listed_in\"].str.split(\", \")\n"
     ]
    }
   ],
   "source": [
    "df_li=df[[\"title\", \"listed_in\"]]\n",
    "df_li[\"listed_in\"]=df_li[\"listed_in\"].str.split(\", \")\n",
    "df_li=df_li.explode(\"listed_in\")"
   ]
  },
  {
   "cell_type": "code",
   "execution_count": 41,
   "id": "bb629185",
   "metadata": {},
   "outputs": [
    {
     "name": "stderr",
     "output_type": "stream",
     "text": [
      "C:\\Users\\Priya\\AppData\\Local\\Temp\\ipykernel_648\\826291704.py:2: SettingWithCopyWarning: \n",
      "A value is trying to be set on a copy of a slice from a DataFrame.\n",
      "Try using .loc[row_indexer,col_indexer] = value instead\n",
      "\n",
      "See the caveats in the documentation: https://pandas.pydata.org/pandas-docs/stable/user_guide/indexing.html#returning-a-view-versus-a-copy\n",
      "  df_co[\"country\"]=df_co[\"country\"].str.split(\", \")\n"
     ]
    }
   ],
   "source": [
    "df_co=df[[\"title\", \"country\"]]\n",
    "df_co[\"country\"]=df_co[\"country\"].str.split(\", \")\n",
    "df_co=df_co.explode(\"country\")"
   ]
  },
  {
   "cell_type": "markdown",
   "id": "911adf09",
   "metadata": {},
   "source": [
    "# Merging the columns after spliting and expanding the columns"
   ]
  },
  {
   "cell_type": "code",
   "execution_count": 42,
   "id": "012ed0bb",
   "metadata": {},
   "outputs": [],
   "source": [
    "df1=pd.merge(df,df_dir, on=\"title\")"
   ]
  },
  {
   "cell_type": "code",
   "execution_count": 44,
   "id": "9655a9ad",
   "metadata": {},
   "outputs": [],
   "source": [
    "df1=pd.merge(df1,df_c, on=\"title\")"
   ]
  },
  {
   "cell_type": "code",
   "execution_count": 45,
   "id": "4e9569a5",
   "metadata": {},
   "outputs": [],
   "source": [
    "df1=pd.merge(df1,df_li, on=\"title\")"
   ]
  },
  {
   "cell_type": "code",
   "execution_count": 46,
   "id": "d72b1cab",
   "metadata": {},
   "outputs": [],
   "source": [
    "df1=pd.merge(df1,df_co, on=\"title\")"
   ]
  },
  {
   "cell_type": "code",
   "execution_count": 47,
   "id": "1a4f1d80",
   "metadata": {},
   "outputs": [],
   "source": [
    "df1.drop(columns=[\"director_x\",\"cast_x\",\"country_x\",\"listed_in_x\"],inplace=True)"
   ]
  },
  {
   "cell_type": "code",
   "execution_count": 48,
   "id": "9776bac7",
   "metadata": {},
   "outputs": [
    {
     "data": {
      "text/html": [
       "<div>\n",
       "<style scoped>\n",
       "    .dataframe tbody tr th:only-of-type {\n",
       "        vertical-align: middle;\n",
       "    }\n",
       "\n",
       "    .dataframe tbody tr th {\n",
       "        vertical-align: top;\n",
       "    }\n",
       "\n",
       "    .dataframe thead th {\n",
       "        text-align: right;\n",
       "    }\n",
       "</style>\n",
       "<table border=\"1\" class=\"dataframe\">\n",
       "  <thead>\n",
       "    <tr style=\"text-align: right;\">\n",
       "      <th></th>\n",
       "      <th>show_id</th>\n",
       "      <th>type</th>\n",
       "      <th>title</th>\n",
       "      <th>date_added</th>\n",
       "      <th>release_year</th>\n",
       "      <th>rating</th>\n",
       "      <th>duration</th>\n",
       "      <th>description</th>\n",
       "      <th>director_y</th>\n",
       "      <th>cast_y</th>\n",
       "      <th>listed_in_y</th>\n",
       "      <th>country_y</th>\n",
       "    </tr>\n",
       "  </thead>\n",
       "  <tbody>\n",
       "    <tr>\n",
       "      <th>0</th>\n",
       "      <td>s1</td>\n",
       "      <td>Movie</td>\n",
       "      <td>Dick Johnson Is Dead</td>\n",
       "      <td>2021-09-25</td>\n",
       "      <td>2020</td>\n",
       "      <td>PG-13</td>\n",
       "      <td>90 min</td>\n",
       "      <td>As her father nears the end of his life, filmm...</td>\n",
       "      <td>Kirsten Johnson</td>\n",
       "      <td>unknown_actor</td>\n",
       "      <td>Documentaries</td>\n",
       "      <td>United States</td>\n",
       "    </tr>\n",
       "    <tr>\n",
       "      <th>1</th>\n",
       "      <td>s2</td>\n",
       "      <td>TV Show</td>\n",
       "      <td>Blood &amp; Water</td>\n",
       "      <td>2021-09-24</td>\n",
       "      <td>2021</td>\n",
       "      <td>TV-MA</td>\n",
       "      <td>2 Seasons</td>\n",
       "      <td>After crossing paths at a party, a Cape Town t...</td>\n",
       "      <td>unknown_director</td>\n",
       "      <td>Ama Qamata</td>\n",
       "      <td>International TV Shows</td>\n",
       "      <td>South Africa</td>\n",
       "    </tr>\n",
       "    <tr>\n",
       "      <th>2</th>\n",
       "      <td>s2</td>\n",
       "      <td>TV Show</td>\n",
       "      <td>Blood &amp; Water</td>\n",
       "      <td>2021-09-24</td>\n",
       "      <td>2021</td>\n",
       "      <td>TV-MA</td>\n",
       "      <td>2 Seasons</td>\n",
       "      <td>After crossing paths at a party, a Cape Town t...</td>\n",
       "      <td>unknown_director</td>\n",
       "      <td>Ama Qamata</td>\n",
       "      <td>TV Dramas</td>\n",
       "      <td>South Africa</td>\n",
       "    </tr>\n",
       "    <tr>\n",
       "      <th>3</th>\n",
       "      <td>s2</td>\n",
       "      <td>TV Show</td>\n",
       "      <td>Blood &amp; Water</td>\n",
       "      <td>2021-09-24</td>\n",
       "      <td>2021</td>\n",
       "      <td>TV-MA</td>\n",
       "      <td>2 Seasons</td>\n",
       "      <td>After crossing paths at a party, a Cape Town t...</td>\n",
       "      <td>unknown_director</td>\n",
       "      <td>Ama Qamata</td>\n",
       "      <td>TV Mysteries</td>\n",
       "      <td>South Africa</td>\n",
       "    </tr>\n",
       "    <tr>\n",
       "      <th>4</th>\n",
       "      <td>s2</td>\n",
       "      <td>TV Show</td>\n",
       "      <td>Blood &amp; Water</td>\n",
       "      <td>2021-09-24</td>\n",
       "      <td>2021</td>\n",
       "      <td>TV-MA</td>\n",
       "      <td>2 Seasons</td>\n",
       "      <td>After crossing paths at a party, a Cape Town t...</td>\n",
       "      <td>unknown_director</td>\n",
       "      <td>Khosi Ngema</td>\n",
       "      <td>International TV Shows</td>\n",
       "      <td>South Africa</td>\n",
       "    </tr>\n",
       "  </tbody>\n",
       "</table>\n",
       "</div>"
      ],
      "text/plain": [
       "  show_id     type                 title date_added  release_year rating  \\\n",
       "0      s1    Movie  Dick Johnson Is Dead 2021-09-25          2020  PG-13   \n",
       "1      s2  TV Show         Blood & Water 2021-09-24          2021  TV-MA   \n",
       "2      s2  TV Show         Blood & Water 2021-09-24          2021  TV-MA   \n",
       "3      s2  TV Show         Blood & Water 2021-09-24          2021  TV-MA   \n",
       "4      s2  TV Show         Blood & Water 2021-09-24          2021  TV-MA   \n",
       "\n",
       "    duration                                        description  \\\n",
       "0     90 min  As her father nears the end of his life, filmm...   \n",
       "1  2 Seasons  After crossing paths at a party, a Cape Town t...   \n",
       "2  2 Seasons  After crossing paths at a party, a Cape Town t...   \n",
       "3  2 Seasons  After crossing paths at a party, a Cape Town t...   \n",
       "4  2 Seasons  After crossing paths at a party, a Cape Town t...   \n",
       "\n",
       "         director_y         cast_y             listed_in_y      country_y  \n",
       "0   Kirsten Johnson  unknown_actor           Documentaries  United States  \n",
       "1  unknown_director     Ama Qamata  International TV Shows   South Africa  \n",
       "2  unknown_director     Ama Qamata               TV Dramas   South Africa  \n",
       "3  unknown_director     Ama Qamata            TV Mysteries   South Africa  \n",
       "4  unknown_director    Khosi Ngema  International TV Shows   South Africa  "
      ]
     },
     "execution_count": 48,
     "metadata": {},
     "output_type": "execute_result"
    }
   ],
   "source": [
    "df1.head()"
   ]
  },
  {
   "cell_type": "code",
   "execution_count": null,
   "id": "8c7af508",
   "metadata": {},
   "outputs": [],
   "source": []
  },
  {
   "cell_type": "markdown",
   "id": "17b9c12c",
   "metadata": {},
   "source": [
    "# Making two different tables for Movies and TV_shows"
   ]
  },
  {
   "cell_type": "code",
   "execution_count": 50,
   "id": "a65c347b",
   "metadata": {},
   "outputs": [],
   "source": [
    "movie=df1.loc[df1[\"type\"]==\"Movie\"]"
   ]
  },
  {
   "cell_type": "code",
   "execution_count": 51,
   "id": "34fa6bcf",
   "metadata": {},
   "outputs": [],
   "source": [
    "tv=df1.loc[df1[\"type\"]==\"TV Show\"]"
   ]
  },
  {
   "cell_type": "code",
   "execution_count": null,
   "id": "c9069481",
   "metadata": {},
   "outputs": [],
   "source": []
  },
  {
   "cell_type": "markdown",
   "id": "342c5c32",
   "metadata": {},
   "source": [
    "# Top 5 country which produce highest movies"
   ]
  },
  {
   "cell_type": "code",
   "execution_count": 52,
   "id": "49480ec6",
   "metadata": {},
   "outputs": [
    {
     "data": {
      "text/plain": [
       "country_y\n",
       "United States      2751\n",
       "India               962\n",
       "United Kingdom      532\n",
       "unknown_country     440\n",
       "Canada              319\n",
       "Name: show_id, dtype: int64"
      ]
     },
     "execution_count": 52,
     "metadata": {},
     "output_type": "execute_result"
    }
   ],
   "source": [
    "movie.groupby([\"country_y\"])[\"show_id\"].nunique().sort_values(ascending=False).head(5)"
   ]
  },
  {
   "cell_type": "code",
   "execution_count": 53,
   "id": "eb247ea4",
   "metadata": {},
   "outputs": [],
   "source": [
    "aj=movie.groupby([\"country_y\"])[\"show_id\"].nunique().sort_values(ascending=False).head(5)\n",
    "i=aj.index\n",
    "j=aj.values"
   ]
  },
  {
   "cell_type": "code",
   "execution_count": 54,
   "id": "a35b341f",
   "metadata": {},
   "outputs": [
    {
     "data": {
      "image/png": "[encoded data removed]",
      "text/plain": [
       "<Figure size 504x360 with 1 Axes>"
      ]
     },
     "metadata": {
      "needs_background": "light"
     },
     "output_type": "display_data"
    }
   ],
   "source": [
    "plt.figure(figsize=(7,5))\n",
    "plt.bar(i, j)\n",
    "plt.xticks(rotation=90,fontsize=12)\n",
    "plt.title(\"Top 5 country which produce highest movies\")\n",
    "plt.show()"
   ]
  },
  {
   "cell_type": "code",
   "execution_count": null,
   "id": "d0aed764",
   "metadata": {},
   "outputs": [],
   "source": []
  },
  {
   "cell_type": "markdown",
   "id": "06d1c1cc",
   "metadata": {},
   "source": [
    "# Top 5 country which produce highest TV_shows"
   ]
  },
  {
   "cell_type": "code",
   "execution_count": 55,
   "id": "ca940434",
   "metadata": {},
   "outputs": [
    {
     "data": {
      "text/plain": [
       "country_y\n",
       "United States      938\n",
       "unknown_country    391\n",
       "United Kingdom     272\n",
       "Japan              199\n",
       "South Korea        170\n",
       "Name: show_id, dtype: int64"
      ]
     },
     "execution_count": 55,
     "metadata": {},
     "output_type": "execute_result"
    }
   ],
   "source": [
    "tv.groupby([\"country_y\"])[\"show_id\"].nunique().sort_values(ascending=False).head(5)"
   ]
  },
  {
   "cell_type": "code",
   "execution_count": 56,
   "id": "9bf2f494",
   "metadata": {},
   "outputs": [],
   "source": [
    "bb=tv.groupby([\"country_y\"])[\"show_id\"].nunique().sort_values(ascending=False).head(5)\n",
    "f=bb.index\n",
    "p=bb.values"
   ]
  },
  {
   "cell_type": "code",
   "execution_count": 57,
   "id": "551a8c47",
   "metadata": {},
   "outputs": [
    {
     "data": {
      "image/png": "[encoded data removed]",
      "text/plain": [
       "<Figure size 504x360 with 1 Axes>"
      ]
     },
     "metadata": {
      "needs_background": "light"
     },
     "output_type": "display_data"
    }
   ],
   "source": [
    "plt.figure(figsize=(7,5))\n",
    "plt.bar(f, p)\n",
    "plt.xticks(rotation=45,fontsize=12)\n",
    "plt.title(\"Top 5 country which produce highest TV_shows\")\n",
    "plt.show()"
   ]
  },
  {
   "cell_type": "markdown",
   "id": "f4fd7697",
   "metadata": {},
   "source": [
    "# Top 5 Genre(listed_in) of Movies"
   ]
  },
  {
   "cell_type": "code",
   "execution_count": 58,
   "id": "733d856d",
   "metadata": {},
   "outputs": [
    {
     "data": {
      "text/plain": [
       "listed_in_y\n",
       "International Movies    2752\n",
       "Dramas                  2427\n",
       "Comedies                1674\n",
       "Documentaries            869\n",
       "Action & Adventure       859\n",
       "Name: show_id, dtype: int64"
      ]
     },
     "execution_count": 58,
     "metadata": {},
     "output_type": "execute_result"
    }
   ],
   "source": [
    "movie.groupby([\"listed_in_y\"])[\"show_id\"].nunique().sort_values(ascending=False).head(5)"
   ]
  },
  {
   "cell_type": "code",
   "execution_count": 59,
   "id": "54e8194e",
   "metadata": {},
   "outputs": [],
   "source": [
    "li=movie.groupby([\"listed_in_y\"])[\"show_id\"].nunique().sort_values(ascending=False).head(5)\n",
    "v=li.index\n",
    "r=li.values"
   ]
  },
  {
   "cell_type": "code",
   "execution_count": 60,
   "id": "45c347fd",
   "metadata": {},
   "outputs": [
    {
     "data": {
      "image/png": "[encoded data removed]",
      "text/plain": [
       "<Figure size 504x360 with 1 Axes>"
      ]
     },
     "metadata": {
      "needs_background": "light"
     },
     "output_type": "display_data"
    }
   ],
   "source": [
    "plt.figure(figsize=(7,5))\n",
    "plt.bar(v, r)\n",
    "plt.xticks(rotation=90,fontsize=12)\n",
    "plt.title(\"Top 5 Genre of Movie\")\n",
    "plt.show()"
   ]
  },
  {
   "cell_type": "markdown",
   "id": "531581f9",
   "metadata": {},
   "source": [
    "# Top 5 Genre of TV_shows"
   ]
  },
  {
   "cell_type": "code",
   "execution_count": 62,
   "id": "95080bda",
   "metadata": {},
   "outputs": [
    {
     "data": {
      "text/plain": [
       "listed_in_y\n",
       "International TV Shows    1351\n",
       "TV Dramas                  763\n",
       "TV Comedies                581\n",
       "Crime TV Shows             470\n",
       "Kids' TV                   451\n",
       "Name: show_id, dtype: int64"
      ]
     },
     "execution_count": 62,
     "metadata": {},
     "output_type": "execute_result"
    }
   ],
   "source": [
    "tv.groupby([\"listed_in_y\"])[\"show_id\"].nunique().sort_values(ascending=False).head(5)"
   ]
  },
  {
   "cell_type": "code",
   "execution_count": 63,
   "id": "e04084fb",
   "metadata": {},
   "outputs": [],
   "source": [
    "bv=tv.groupby([\"listed_in_y\"])[\"show_id\"].nunique().sort_values(ascending=False).head(5)\n",
    "ty=bv.index\n",
    "ui=bv.values"
   ]
  },
  {
   "cell_type": "code",
   "execution_count": 64,
   "id": "f100cb89",
   "metadata": {},
   "outputs": [
    {
     "data": {
      "image/png": "[encoded data removed]",
      "text/plain": [
       "<Figure size 504x360 with 1 Axes>"
      ]
     },
     "metadata": {
      "needs_background": "light"
     },
     "output_type": "display_data"
    }
   ],
   "source": [
    "plt.figure(figsize=(7,5))\n",
    "plt.bar(ty, ui)\n",
    "plt.xticks(rotation=90,fontsize=12)\n",
    "plt.title(\"Top 5 Genre of TV_show\")\n",
    "plt.show()"
   ]
  },
  {
   "cell_type": "markdown",
   "id": "c25637af",
   "metadata": {},
   "source": [
    "# Top 5 rated movie"
   ]
  },
  {
   "cell_type": "code",
   "execution_count": 65,
   "id": "90236876",
   "metadata": {},
   "outputs": [
    {
     "data": {
      "text/plain": [
       "rating\n",
       "TV-MA    2062\n",
       "TV-14    1427\n",
       "R         797\n",
       "TV-PG     540\n",
       "PG-13     490\n",
       "Name: show_id, dtype: int64"
      ]
     },
     "execution_count": 65,
     "metadata": {},
     "output_type": "execute_result"
    }
   ],
   "source": [
    "movie.groupby([\"rating\"])[\"show_id\"].nunique().sort_values(ascending=False).head(5)"
   ]
  },
  {
   "cell_type": "code",
   "execution_count": 66,
   "id": "42fdc479",
   "metadata": {},
   "outputs": [],
   "source": [
    "dr=movie.groupby([\"rating\"])[\"show_id\"].nunique().sort_values(ascending=False).head(5)\n",
    "o=dr.index\n",
    "q=dr.values"
   ]
  },
  {
   "cell_type": "code",
   "execution_count": 67,
   "id": "3d75eb9b",
   "metadata": {},
   "outputs": [
    {
     "data": {
      "image/png": "[encoded data removed]",
      "text/plain": [
       "<Figure size 504x360 with 1 Axes>"
      ]
     },
     "metadata": {
      "needs_background": "light"
     },
     "output_type": "display_data"
    }
   ],
   "source": [
    "plt.figure(figsize=(7,5))\n",
    "plt.bar(o, q)\n",
    "plt.xticks(rotation=90,fontsize=12)\n",
    "plt.title(\"Top 5 rated movie\")\n",
    "plt.show()"
   ]
  },
  {
   "cell_type": "markdown",
   "id": "752921d9",
   "metadata": {},
   "source": [
    "# Top 5 rated TV_show"
   ]
  },
  {
   "cell_type": "code",
   "execution_count": 68,
   "id": "386e2973",
   "metadata": {},
   "outputs": [
    {
     "data": {
      "text/plain": [
       "rating\n",
       "TV-MA    1145\n",
       "TV-14     733\n",
       "TV-PG     323\n",
       "TV-Y7     195\n",
       "TV-Y      176\n",
       "Name: show_id, dtype: int64"
      ]
     },
     "execution_count": 68,
     "metadata": {},
     "output_type": "execute_result"
    }
   ],
   "source": [
    "tv.groupby([\"rating\"])[\"show_id\"].nunique().sort_values(ascending=False).head(5)"
   ]
  },
  {
   "cell_type": "code",
   "execution_count": 69,
   "id": "e63cf086",
   "metadata": {},
   "outputs": [],
   "source": [
    "tt=tv.groupby([\"rating\"])[\"show_id\"].nunique().sort_values(ascending=False).head(5)\n",
    "x1=tt.index\n",
    "x2=tt.values"
   ]
  },
  {
   "cell_type": "code",
   "execution_count": 70,
   "id": "f87436fe",
   "metadata": {},
   "outputs": [
    {
     "data": {
      "image/png": "[encoded data removed]",
      "text/plain": [
       "<Figure size 504x360 with 1 Axes>"
      ]
     },
     "metadata": {
      "needs_background": "light"
     },
     "output_type": "display_data"
    }
   ],
   "source": [
    "plt.figure(figsize=(7,5))\n",
    "plt.bar(x1, x2)\n",
    "plt.xticks(rotation=90,fontsize=12)\n",
    "plt.title(\"Top 5 rated TV_shows\")\n",
    "plt.show()"
   ]
  },
  {
   "cell_type": "markdown",
   "id": "02203ad6",
   "metadata": {},
   "source": [
    "# Top 5 producing director for movies"
   ]
  },
  {
   "cell_type": "code",
   "execution_count": 71,
   "id": "149c1eab",
   "metadata": {},
   "outputs": [
    {
     "data": {
      "text/plain": [
       "director_y\n",
       "unknown_director    188\n",
       "Rajiv Chilaka        22\n",
       "Jan Suter            21\n",
       "Raúl Campos          19\n",
       "Suhas Kadav          16\n",
       "Name: show_id, dtype: int64"
      ]
     },
     "execution_count": 71,
     "metadata": {},
     "output_type": "execute_result"
    }
   ],
   "source": [
    "movie.groupby([\"director_y\"])[\"show_id\"].nunique().sort_values(ascending=False).head(5)"
   ]
  },
  {
   "cell_type": "code",
   "execution_count": 72,
   "id": "d523124b",
   "metadata": {},
   "outputs": [],
   "source": [
    "hg=movie.groupby([\"director_y\"])[\"show_id\"].nunique().sort_values(ascending=False).head(5)\n",
    "tr=hg.index\n",
    "ru=hg.values"
   ]
  },
  {
   "cell_type": "code",
   "execution_count": 73,
   "id": "f1fe26f6",
   "metadata": {},
   "outputs": [
    {
     "data": {
      "image/png": "[encoded data removed]",
      "text/plain": [
       "<Figure size 504x360 with 1 Axes>"
      ]
     },
     "metadata": {
      "needs_background": "light"
     },
     "output_type": "display_data"
    }
   ],
   "source": [
    "plt.figure(figsize=(7,5))\n",
    "plt.bar(tr, ru)\n",
    "plt.xticks(rotation=45,fontsize=12)\n",
    "plt.title(\"Top 5 director for movies\")\n",
    "plt.show()"
   ]
  },
  {
   "cell_type": "markdown",
   "id": "55e480d9",
   "metadata": {},
   "source": [
    "# Top 5 producing director for TV_show"
   ]
  },
  {
   "cell_type": "code",
   "execution_count": 74,
   "id": "ada39b44",
   "metadata": {},
   "outputs": [
    {
     "data": {
      "text/plain": [
       "director_y\n",
       "unknown_director       2446\n",
       "Ken Burns                 3\n",
       "Alastair Fothergill       3\n",
       "Jung-ah Im                2\n",
       "Joe Berlinger             2\n",
       "Name: show_id, dtype: int64"
      ]
     },
     "execution_count": 74,
     "metadata": {},
     "output_type": "execute_result"
    }
   ],
   "source": [
    "\n",
    "tv.groupby([\"director_y\"])[\"show_id\"].nunique().sort_values(ascending=False).head(5)"
   ]
  },
  {
   "cell_type": "code",
   "execution_count": 75,
   "id": "a0177a4b",
   "metadata": {},
   "outputs": [],
   "source": [
    "hg=tv.groupby([\"director_y\"])[\"show_id\"].nunique().sort_values(ascending=False).head(5)\n",
    "jr=hg.index\n",
    "tu=hg.values"
   ]
  },
  {
   "cell_type": "code",
   "execution_count": 76,
   "id": "cbcdbef6",
   "metadata": {},
   "outputs": [
    {
     "data": {
      "image/png": "[encoded data removed]",
      "text/plain": [
       "<Figure size 504x360 with 1 Axes>"
      ]
     },
     "metadata": {
      "needs_background": "light"
     },
     "output_type": "display_data"
    }
   ],
   "source": [
    "plt.figure(figsize=(7,5))\n",
    "plt.bar(jr, tu)\n",
    "plt.xticks(rotation=45,fontsize=12)\n",
    "plt.title(\"Top 5 director for TV_show\")\n",
    "plt.show()"
   ]
  },
  {
   "cell_type": "markdown",
   "id": "dd08f895",
   "metadata": {},
   "source": [
    "# Top 5 actor in movies"
   ]
  },
  {
   "cell_type": "code",
   "execution_count": 77,
   "id": "589940d7",
   "metadata": {},
   "outputs": [
    {
     "data": {
      "text/plain": [
       "cast_y\n",
       "unknown_actor       475\n",
       "Anupam Kher          42\n",
       "Shah Rukh Khan       35\n",
       "Naseeruddin Shah     32\n",
       "Akshay Kumar         30\n",
       "Name: show_id, dtype: int64"
      ]
     },
     "execution_count": 77,
     "metadata": {},
     "output_type": "execute_result"
    }
   ],
   "source": [
    "movie.groupby([\"cast_y\"])[\"show_id\"].nunique().sort_values(ascending=False).head(5)"
   ]
  },
  {
   "cell_type": "code",
   "execution_count": 78,
   "id": "a56a37e9",
   "metadata": {},
   "outputs": [],
   "source": [
    "hg=movie.groupby([\"cast_y\"])[\"show_id\"].nunique().sort_values(ascending=False).head(5)\n",
    "t1=hg.index\n",
    "r1=hg.values"
   ]
  },
  {
   "cell_type": "code",
   "execution_count": 79,
   "id": "48365957",
   "metadata": {},
   "outputs": [
    {
     "data": {
      "image/png": "[encoded data removed]",
      "text/plain": [
       "<Figure size 504x360 with 1 Axes>"
      ]
     },
     "metadata": {
      "needs_background": "light"
     },
     "output_type": "display_data"
    }
   ],
   "source": [
    "plt.figure(figsize=(7,5))\n",
    "plt.bar(t1, r1)\n",
    "plt.xticks(rotation=45,fontsize=12)\n",
    "plt.title(\"Top 5 actors in Movie\")\n",
    "plt.show()"
   ]
  },
  {
   "cell_type": "markdown",
   "id": "eed95a45",
   "metadata": {},
   "source": [
    "# Top 5 actors in TV_shows"
   ]
  },
  {
   "cell_type": "code",
   "execution_count": 80,
   "id": "9a70d995",
   "metadata": {},
   "outputs": [
    {
     "data": {
      "text/plain": [
       "cast_y\n",
       "unknown_actor       350\n",
       "Takahiro Sakurai     25\n",
       "Yuki Kaji            19\n",
       "Daisuke Ono          17\n",
       "Ai Kayano            17\n",
       "Name: show_id, dtype: int64"
      ]
     },
     "execution_count": 80,
     "metadata": {},
     "output_type": "execute_result"
    }
   ],
   "source": [
    "tv.groupby([\"cast_y\"])[\"show_id\"].nunique().sort_values(ascending=False).head(5)"
   ]
  },
  {
   "cell_type": "code",
   "execution_count": 81,
   "id": "4c598052",
   "metadata": {},
   "outputs": [],
   "source": [
    "r5=tv.groupby([\"cast_y\"])[\"show_id\"].nunique().sort_values(ascending=False).head(5)\n",
    "y7=r5.index\n",
    "u7=r5.values"
   ]
  },
  {
   "cell_type": "code",
   "execution_count": 82,
   "id": "c2284fb6",
   "metadata": {},
   "outputs": [
    {
     "data": {
      "image/png": "[encoded data removed]",
      "text/plain": [
       "<Figure size 504x360 with 1 Axes>"
      ]
     },
     "metadata": {
      "needs_background": "light"
     },
     "output_type": "display_data"
    }
   ],
   "source": [
    "plt.figure(figsize=(7,5))\n",
    "plt.bar(y7, u7)\n",
    "plt.xticks(rotation=45,fontsize=12)\n",
    "plt.title(\"Top 5 actors in TV_shows\")\n",
    "plt.show()"
   ]
  },
  {
   "cell_type": "markdown",
   "id": "85869a00",
   "metadata": {},
   "source": [
    "# Top 5 in Movie analysis"
   ]
  },
  {
   "cell_type": "code",
   "execution_count": 84,
   "id": "ff364704",
   "metadata": {},
   "outputs": [
    {
     "data": {
      "image/png": "[encoded data removed]",
      "text/plain": [
       "<Figure size 864x720 with 5 Axes>"
      ]
     },
     "metadata": {
      "needs_background": "light"
     },
     "output_type": "display_data"
    }
   ],
   "source": [
    "fig=plt.figure(figsize =(12,10))\n",
    "\n",
    "plt.subplot(2,3,1)\n",
    "\n",
    "plt.bar(i, j)\n",
    "plt.xticks(rotation=45,fontsize=12)\n",
    "plt.title(\"Top 5 country which produce highest movies\")\n",
    "\n",
    "\n",
    "plt.subplot(2,3,2)\n",
    "plt.bar(v, r)\n",
    "plt.xticks(rotation=45,fontsize=12)\n",
    "plt.title(\"Top 5 Genre of Movie\")\n",
    "\n",
    "plt.subplot(2,3,3)\n",
    "plt.bar(o, q)\n",
    "plt.xticks(rotation=90,fontsize=12)\n",
    "plt.title(\"Top 5 rated movie\")\n",
    "\n",
    "plt.subplot(2,3,4)\n",
    "plt.bar(tr, ru)\n",
    "plt.xticks(rotation=45,fontsize=12)\n",
    "plt.title(\"Top 5 director for movies\")\n",
    "\n",
    "plt.subplot(2,3,5)\n",
    "plt.bar(t1, r1)\n",
    "plt.xticks(rotation=45,fontsize=12)\n",
    "plt.title(\"Top 5 actors in Movie\")\n",
    "\n",
    "plt.suptitle(\"Movies Data analysis\")\n",
    "plt.show()"
   ]
  },
  {
   "cell_type": "code",
   "execution_count": null,
   "id": "5269c7ec",
   "metadata": {},
   "outputs": [],
   "source": []
  },
  {
   "cell_type": "markdown",
   "id": "71e1b1f6",
   "metadata": {},
   "source": [
    "# Top 5 TV_show analysis"
   ]
  },
  {
   "cell_type": "code",
   "execution_count": 85,
   "id": "0d5bd14e",
   "metadata": {},
   "outputs": [
    {
     "data": {
      "image/png": "[encoded data removed]",
      "text/plain": [
       "<Figure size 864x720 with 5 Axes>"
      ]
     },
     "metadata": {
      "needs_background": "light"
     },
     "output_type": "display_data"
    }
   ],
   "source": [
    "fig=plt.figure(figsize =(12,10))\n",
    "\n",
    "plt.subplot(2,3,1)\n",
    "\n",
    "plt.bar(f, p)\n",
    "plt.xticks(rotation=20,fontsize=12)\n",
    "plt.title(\"Top 5 country which produce highest TV_shows\")\n",
    "\n",
    "\n",
    "plt.subplot(2,3,2)\n",
    "plt.bar(ty, ui)\n",
    "plt.xticks(rotation=20,fontsize=12)\n",
    "plt.title(\"Top 5 Genre of TV_show\")\n",
    "\n",
    "plt.subplot(2,3,3)\n",
    "plt.bar(x1, x2)\n",
    "plt.xticks(rotation=90,fontsize=12)\n",
    "plt.title(\"Top 5 rated TV_shows\")\n",
    "\n",
    "plt.subplot(2,3,4)\n",
    "plt.bar(jr, tu)\n",
    "plt.xticks(rotation=45,fontsize=12)\n",
    "plt.title(\"Top 5 director for TV_show\")\n",
    "\n",
    "plt.subplot(2,3,5)\n",
    "plt.bar(y7, u7)\n",
    "plt.xticks(rotation=45,fontsize=12)\n",
    "plt.title(\"Top 5 actors in TV_shows\")\n",
    "\n",
    "plt.suptitle(\"TV_show Data analysis\")\n",
    "plt.show()"
   ]
  },
  {
   "cell_type": "markdown",
   "id": "e8119a92",
   "metadata": {},
   "source": [
    "# Best month for movies added in Netflix?"
   ]
  },
  {
   "cell_type": "code",
   "execution_count": 86,
   "id": "7c6c2145",
   "metadata": {},
   "outputs": [
    {
     "data": {
      "text/plain": [
       "date_added\n",
       "July         565\n",
       "April        550\n",
       "December     547\n",
       "January      546\n",
       "October      545\n",
       "March        529\n",
       "August       519\n",
       "September    519\n",
       "November     498\n",
       "June         492\n",
       "May          439\n",
       "February     382\n",
       "Name: show_id, dtype: int64"
      ]
     },
     "execution_count": 86,
     "metadata": {},
     "output_type": "execute_result"
    }
   ],
   "source": [
    "movie.groupby(movie[\"date_added\"].dt.month_name())[\"show_id\"].nunique().sort_values(ascending=False)"
   ]
  },
  {
   "cell_type": "code",
   "execution_count": null,
   "id": "bf7e8787",
   "metadata": {},
   "outputs": [],
   "source": [
    "Best month the movies added in Netflix is July"
   ]
  },
  {
   "cell_type": "code",
   "execution_count": null,
   "id": "14c5df03",
   "metadata": {},
   "outputs": [],
   "source": []
  },
  {
   "cell_type": "markdown",
   "id": "4aa2f1b8",
   "metadata": {},
   "source": [
    "# Best weekday for movies added in Netflix?"
   ]
  },
  {
   "cell_type": "code",
   "execution_count": 87,
   "id": "728bcb9e",
   "metadata": {},
   "outputs": [
    {
     "data": {
      "text/plain": [
       "date_added\n",
       "Friday       1566\n",
       "Thursday     1053\n",
       "Wednesday     906\n",
       "Tuesday       852\n",
       "Monday        628\n",
       "Sunday        569\n",
       "Saturday      557\n",
       "Name: show_id, dtype: int64"
      ]
     },
     "execution_count": 87,
     "metadata": {},
     "output_type": "execute_result"
    }
   ],
   "source": [
    "movie.groupby(movie[\"date_added\"].dt.day_name())[\"show_id\"].nunique().sort_values(ascending=False)"
   ]
  },
  {
   "cell_type": "code",
   "execution_count": null,
   "id": "832dd628",
   "metadata": {},
   "outputs": [],
   "source": [
    "Best weekday added movies added in Netflix is Friday"
   ]
  },
  {
   "cell_type": "code",
   "execution_count": null,
   "id": "fabafea0",
   "metadata": {},
   "outputs": [],
   "source": []
  },
  {
   "cell_type": "markdown",
   "id": "eca99603",
   "metadata": {},
   "source": [
    "# Best month for TV_show added in Netflix?"
   ]
  },
  {
   "cell_type": "code",
   "execution_count": 88,
   "id": "a20851da",
   "metadata": {},
   "outputs": [
    {
     "data": {
      "text/plain": [
       "date_added\n",
       "December     266\n",
       "July         262\n",
       "September    251\n",
       "August       236\n",
       "June         236\n",
       "October      215\n",
       "April        214\n",
       "March        213\n",
       "November     207\n",
       "May          193\n",
       "January      192\n",
       "February     181\n",
       "Name: show_id, dtype: int64"
      ]
     },
     "execution_count": 88,
     "metadata": {},
     "output_type": "execute_result"
    }
   ],
   "source": [
    "tv.groupby(tv[\"date_added\"].dt.month_name())[\"show_id\"].nunique().sort_values(ascending=False)"
   ]
  },
  {
   "cell_type": "code",
   "execution_count": null,
   "id": "ea4bc8a6",
   "metadata": {},
   "outputs": [],
   "source": [
    "Best month for TV_show added to netflix is December"
   ]
  },
  {
   "cell_type": "code",
   "execution_count": null,
   "id": "4ea7ed3f",
   "metadata": {},
   "outputs": [],
   "source": []
  },
  {
   "cell_type": "markdown",
   "id": "dbaa51bd",
   "metadata": {},
   "source": [
    "# Best weekday for TV_show added in Netflix?"
   ]
  },
  {
   "cell_type": "code",
   "execution_count": 89,
   "id": "928c1225",
   "metadata": {},
   "outputs": [
    {
     "data": {
      "text/plain": [
       "date_added\n",
       "Friday       932\n",
       "Wednesday    382\n",
       "Tuesday      345\n",
       "Thursday     343\n",
       "Saturday     259\n",
       "Monday       223\n",
       "Sunday       182\n",
       "Name: show_id, dtype: int64"
      ]
     },
     "execution_count": 89,
     "metadata": {},
     "output_type": "execute_result"
    }
   ],
   "source": [
    "tv.groupby(tv[\"date_added\"].dt.day_name())[\"show_id\"].nunique().sort_values(ascending=False)"
   ]
  },
  {
   "cell_type": "code",
   "execution_count": null,
   "id": "a1ac28e7",
   "metadata": {},
   "outputs": [],
   "source": [
    "Best weekday added TV_Shows added in Netflix is Friday"
   ]
  },
  {
   "cell_type": "code",
   "execution_count": null,
   "id": "387abe20",
   "metadata": {},
   "outputs": [],
   "source": []
  },
  {
   "cell_type": "markdown",
   "id": "501dcff4",
   "metadata": {},
   "source": [
    "# Boxplot of duration of time of movies"
   ]
  },
  {
   "cell_type": "code",
   "execution_count": 90,
   "id": "2cc4d6f0",
   "metadata": {},
   "outputs": [
    {
     "name": "stderr",
     "output_type": "stream",
     "text": [
      "C:\\Users\\Priya\\AppData\\Local\\Temp\\ipykernel_648\\154668984.py:1: SettingWithCopyWarning: \n",
      "A value is trying to be set on a copy of a slice from a DataFrame.\n",
      "Try using .loc[row_indexer,col_indexer] = value instead\n",
      "\n",
      "See the caveats in the documentation: https://pandas.pydata.org/pandas-docs/stable/user_guide/indexing.html#returning-a-view-versus-a-copy\n",
      "  movie[[\"new_dur\",\"n\"]]=movie[\"duration\"].str.split(\" \",expand=True)\n",
      "C:\\Users\\Priya\\AppData\\Local\\Temp\\ipykernel_648\\154668984.py:1: SettingWithCopyWarning: \n",
      "A value is trying to be set on a copy of a slice from a DataFrame.\n",
      "Try using .loc[row_indexer,col_indexer] = value instead\n",
      "\n",
      "See the caveats in the documentation: https://pandas.pydata.org/pandas-docs/stable/user_guide/indexing.html#returning-a-view-versus-a-copy\n",
      "  movie[[\"new_dur\",\"n\"]]=movie[\"duration\"].str.split(\" \",expand=True)\n"
     ]
    }
   ],
   "source": [
    "movie[[\"new_dur\",\"n\"]]=movie[\"duration\"].str.split(\" \",expand=True)"
   ]
  },
  {
   "cell_type": "code",
   "execution_count": 91,
   "id": "95bae2be",
   "metadata": {},
   "outputs": [
    {
     "name": "stderr",
     "output_type": "stream",
     "text": [
      "C:\\Users\\Priya\\AppData\\Local\\Temp\\ipykernel_648\\3797729179.py:1: SettingWithCopyWarning: \n",
      "A value is trying to be set on a copy of a slice from a DataFrame.\n",
      "Try using .loc[row_indexer,col_indexer] = value instead\n",
      "\n",
      "See the caveats in the documentation: https://pandas.pydata.org/pandas-docs/stable/user_guide/indexing.html#returning-a-view-versus-a-copy\n",
      "  movie[\"new_dur\"]=movie[\"new_dur\"].astype(int)\n"
     ]
    }
   ],
   "source": [
    "movie[\"new_dur\"]=movie[\"new_dur\"].astype(int)"
   ]
  },
  {
   "cell_type": "code",
   "execution_count": 92,
   "id": "f3c3daa1",
   "metadata": {},
   "outputs": [
    {
     "data": {
      "image/png": "[encoded data removed]",
      "text/plain": [
       "<Figure size 288x432 with 1 Axes>"
      ]
     },
     "metadata": {
      "needs_background": "light"
     },
     "output_type": "display_data"
    }
   ],
   "source": [
    "plt.figure(figsize=(4,6))\n",
    "sns.boxplot(data=movie[\"new_dur\"]\n",
    "           ) \n",
    "plt.title(\"movies duration box plot\")\n",
    "plt.show()"
   ]
  },
  {
   "cell_type": "code",
   "execution_count": null,
   "id": "55fcd352",
   "metadata": {},
   "outputs": [],
   "source": [
    "Median lenght of the movies is 100"
   ]
  },
  {
   "cell_type": "code",
   "execution_count": null,
   "id": "b8067e36",
   "metadata": {},
   "outputs": [],
   "source": []
  },
  {
   "cell_type": "markdown",
   "id": "dfc5fef6",
   "metadata": {},
   "source": [
    "# Scatterplot"
   ]
  },
  {
   "cell_type": "code",
   "execution_count": 93,
   "id": "259531b4",
   "metadata": {},
   "outputs": [
    {
     "data": {
      "image/png": "[encoded data removed]",
      "text/plain": [
       "<Figure size 432x288 with 1 Axes>"
      ]
     },
     "metadata": {
      "needs_background": "light"
     },
     "output_type": "display_data"
    }
   ],
   "source": [
    "sns.scatterplot(data=movie,\n",
    "                x=\"release_year\",\n",
    "               y=\"new_dur\")\n",
    "plt.title(\"release year vs duration of movies\")\n",
    "plt.show()"
   ]
  },
  {
   "cell_type": "markdown",
   "id": "8b343fbb",
   "metadata": {},
   "source": [
    "# pairplot"
   ]
  },
  {
   "cell_type": "code",
   "execution_count": 94,
   "id": "567b71de",
   "metadata": {},
   "outputs": [
    {
     "data": {
      "image/png": "[encoded data removed]",
      "text/plain": [
       "<Figure size 360x360 with 6 Axes>"
      ]
     },
     "metadata": {
      "needs_background": "light"
     },
     "output_type": "display_data"
    }
   ],
   "source": [
    "sns.pairplot(data=movie)\n",
    "plt.show()"
   ]
  },
  {
   "cell_type": "code",
   "execution_count": null,
   "id": "3ba80c24",
   "metadata": {},
   "outputs": [],
   "source": []
  },
  {
   "cell_type": "markdown",
   "id": "f0626b2b",
   "metadata": {},
   "source": [
    "# Heatmap analysis"
   ]
  },
  {
   "cell_type": "code",
   "execution_count": 95,
   "id": "18ea6213",
   "metadata": {},
   "outputs": [
    {
     "data": {
      "text/html": [
       "<div>\n",
       "<style scoped>\n",
       "    .dataframe tbody tr th:only-of-type {\n",
       "        vertical-align: middle;\n",
       "    }\n",
       "\n",
       "    .dataframe tbody tr th {\n",
       "        vertical-align: top;\n",
       "    }\n",
       "\n",
       "    .dataframe thead th {\n",
       "        text-align: right;\n",
       "    }\n",
       "</style>\n",
       "<table border=\"1\" class=\"dataframe\">\n",
       "  <thead>\n",
       "    <tr style=\"text-align: right;\">\n",
       "      <th></th>\n",
       "      <th>release_year</th>\n",
       "      <th>new_dur</th>\n",
       "    </tr>\n",
       "  </thead>\n",
       "  <tbody>\n",
       "    <tr>\n",
       "      <th>release_year</th>\n",
       "      <td>1.000000</td>\n",
       "      <td>-0.235665</td>\n",
       "    </tr>\n",
       "    <tr>\n",
       "      <th>new_dur</th>\n",
       "      <td>-0.235665</td>\n",
       "      <td>1.000000</td>\n",
       "    </tr>\n",
       "  </tbody>\n",
       "</table>\n",
       "</div>"
      ],
      "text/plain": [
       "              release_year   new_dur\n",
       "release_year      1.000000 -0.235665\n",
       "new_dur          -0.235665  1.000000"
      ]
     },
     "execution_count": 95,
     "metadata": {},
     "output_type": "execute_result"
    }
   ],
   "source": [
    "movie.corr()"
   ]
  },
  {
   "cell_type": "code",
   "execution_count": 96,
   "id": "c2bf1a5b",
   "metadata": {},
   "outputs": [
    {
     "data": {
      "image/png": "[encoded data removed]",
      "text/plain": [
       "<Figure size 288x216 with 2 Axes>"
      ]
     },
     "metadata": {
      "needs_background": "light"
     },
     "output_type": "display_data"
    }
   ],
   "source": [
    "plt.figure(figsize=(4,3))\n",
    "sns.heatmap(data=movie.corr(),\n",
    "            annot=True,\n",
    "           cmap=\"coolwarm\")\n",
    "plt.title(\"heatmap\")\n",
    "plt.show()"
   ]
  },
  {
   "cell_type": "code",
   "execution_count": null,
   "id": "978921a1",
   "metadata": {},
   "outputs": [],
   "source": [
    "According to the heatmap and corelation, there is negatibe corelation between release year and duration of time, That means with time the duration of the movies are decreasing"
   ]
  },
  {
   "cell_type": "code",
   "execution_count": null,
   "id": "8483e9aa",
   "metadata": {},
   "outputs": [],
   "source": []
  },
  {
   "cell_type": "markdown",
   "id": "f8cf150d",
   "metadata": {},
   "source": [
    "# Business Insights:"
   ]
  },
  {
   "cell_type": "code",
   "execution_count": null,
   "id": "49760a88",
   "metadata": {},
   "outputs": [],
   "source": [
    "* Movies are majorly added in Netflix then TV_show\n",
    "* Mostly Adult type of movie rating is added above 14 and 17 age content\n",
    "* Majority of the movies are from approx 2008 to 2022 and TV_shows are from approx 2012 to 2022\n",
    "* United State is the top most producer for both Movies and TV shows\n",
    "* International and Dramas type of movie are mostly added in Netflix\n",
    "* International TV shows and Dramas type of TV shows are mostly added in Netflix\n",
    "* Best time to add movies in Netflix is July and Friday\n",
    "* Best time to add TV_shows in Netflix is December and Friday\n",
    "* 50% of the movie duration lies between 90 to 110 minutes\n",
    "* With time the duration of the Movies are decreasing"
   ]
  },
  {
   "cell_type": "code",
   "execution_count": null,
   "id": "9adfa259",
   "metadata": {},
   "outputs": [],
   "source": []
  },
  {
   "cell_type": "code",
   "execution_count": null,
   "id": "eb31b6a5",
   "metadata": {},
   "outputs": [],
   "source": []
  },
  {
   "cell_type": "code",
   "execution_count": null,
   "id": "11830af6",
   "metadata": {},
   "outputs": [],
   "source": []
  },
  {
   "cell_type": "code",
   "execution_count": null,
   "id": "55ed751c",
   "metadata": {},
   "outputs": [],
   "source": []
  },
  {
   "cell_type": "code",
   "execution_count": null,
   "id": "470cc249",
   "metadata": {},
   "outputs": [],
   "source": []
  }
 ],
 "metadata": {
  "kernelspec": {
   "display_name": "Python 3 (ipykernel)",
   "language": "python",
   "name": "python3"
  },
  "language_info": {
   "codemirror_mode": {
    "name": "ipython",
    "version": 3
   },
   "file_extension": ".py",
   "mimetype": "text/x-python",
   "name": "python",
   "nbconvert_exporter": "python",
   "pygments_lexer": "ipython3",
   "version": "3.9.12"
  }
 },
 "nbformat": 4,
 "nbformat_minor": 5
}
